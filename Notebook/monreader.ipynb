{
 "cells": [
  {
   "cell_type": "code",
   "execution_count": 1,
   "metadata": {
    "executionInfo": {
     "elapsed": 334,
     "status": "ok",
     "timestamp": 1697309664902,
     "user": {
      "displayName": "Tanushri Bhaduri",
      "userId": "06665968640507412761"
     },
     "user_tz": -240
    },
    "id": "H1oAK8kMxPOI"
   },
   "outputs": [],
   "source": [
    "import os\n",
    "import numpy as np\n",
    "import tensorflow as tf\n",
    "from tqdm import tqdm\n",
    "from sklearn.model_selection import train_test_split\n",
    "from tensorflow.keras.models import Sequential\n",
    "import matplotlib.pyplot as plt\n",
    "from sklearn.metrics import classification_report, confusion_matrix\n",
    "from sklearn.metrics import accuracy_score\n",
    "from sklearn.metrics import f1_score\n",
    "import random\n",
    "import pickle\n",
    "import cv2\n",
    "from tensorflow import keras\n",
    "from tensorflow.keras.applications import ResNet50\n",
    "import tensorflow_hub as hub\n",
    "from keras.applications.mobilenet_v2 import MobileNetV2\n",
    "from tensorflow.keras.applications.resnet50 import preprocess_input\n",
    "from tensorflow.keras import layers\n",
    "from tensorflow.keras.models import Sequential, Model"
   ]
  },
  {
   "cell_type": "code",
   "execution_count": 16,
   "metadata": {
    "colab": {
     "base_uri": "https://localhost:8080/"
    },
    "executionInfo": {
     "elapsed": 25926,
     "status": "ok",
     "timestamp": 1697291018923,
     "user": {
      "displayName": "Tanushri Bhaduri",
      "userId": "06665968640507412761"
     },
     "user_tz": -240
    },
    "id": "xqSBl_W0yg2I",
    "outputId": "08637cb7-ed88-4242-ec86-0b2663ee910d"
   },
   "outputs": [
    {
     "data": {
      "text/plain": [
       "\"\\nfrom google.colab import drive\\ndrive.mount('/content/drive')\\n\""
      ]
     },
     "execution_count": 16,
     "metadata": {},
     "output_type": "execute_result"
    }
   ],
   "source": [
    "\"\"\"\n",
    "from google.colab import drive\n",
    "drive.mount('/content/drive')\n",
    "\"\"\""
   ]
  },
  {
   "cell_type": "code",
   "execution_count": 17,
   "metadata": {
    "colab": {
     "base_uri": "https://localhost:8080/"
    },
    "executionInfo": {
     "elapsed": 384,
     "status": "ok",
     "timestamp": 1697291020300,
     "user": {
      "displayName": "Tanushri Bhaduri",
      "userId": "06665968640507412761"
     },
     "user_tz": -240
    },
    "id": "gI8LYuXUys58",
    "outputId": "4f931150-cd22-40c5-874f-ec75ea7b6688"
   },
   "outputs": [],
   "source": [
    "#!ls \"/content/drive/My Drive/\""
   ]
  },
  {
   "cell_type": "markdown",
   "metadata": {},
   "source": [
    "### Problem Statement"
   ]
  },
  {
   "cell_type": "markdown",
   "metadata": {},
   "source": [
    "An AI and Computer Vision Company needs a code for classifying the images as a flip pages and non flip pages. This code can be used for mobile application. "
   ]
  },
  {
   "cell_type": "code",
   "execution_count": 2,
   "metadata": {
    "executionInfo": {
     "elapsed": 582,
     "status": "ok",
     "timestamp": 1697294422376,
     "user": {
      "displayName": "Tanushri Bhaduri",
      "userId": "06665968640507412761"
     },
     "user_tz": -240
    },
    "id": "PEp3oOFNy4AP"
   },
   "outputs": [],
   "source": [
    "img_height, img_width, img_channels = 224,224,3\n",
    "batch_size=32\n",
    "train_ds = \"../Data/images/training\"\n",
    "test_data_dir = \"../Data/images/testing\"\n",
    "loading_dataste_seed = 0"
   ]
  },
  {
   "cell_type": "markdown",
   "metadata": {},
   "source": [
    "### Load Dataset"
   ]
  },
  {
   "cell_type": "code",
   "execution_count": 3,
   "metadata": {
    "colab": {
     "base_uri": "https://localhost:8080/"
    },
    "executionInfo": {
     "elapsed": 993,
     "status": "ok",
     "timestamp": 1697294424612,
     "user": {
      "displayName": "Tanushri Bhaduri",
      "userId": "06665968640507412761"
     },
     "user_tz": -240
    },
    "id": "udLneF1GzOLn",
    "outputId": "a58a7239-02aa-4dcf-ec81-60b734dc7e1a"
   },
   "outputs": [
    {
     "name": "stdout",
     "output_type": "stream",
     "text": [
      "Found 2392 files belonging to 2 classes.\n",
      "Using 1914 files for training.\n"
     ]
    }
   ],
   "source": [
    "train_set = tf.keras.preprocessing.image_dataset_from_directory(\n",
    "    train_ds,\n",
    "    validation_split=0.2,\n",
    "    subset=\"training\",\n",
    "    seed=loading_dataste_seed,\n",
    "    image_size=(img_height, img_width),\n",
    "    batch_size=batch_size\n",
    ")"
   ]
  },
  {
   "cell_type": "code",
   "execution_count": 4,
   "metadata": {
    "colab": {
     "base_uri": "https://localhost:8080/"
    },
    "executionInfo": {
     "elapsed": 1207,
     "status": "ok",
     "timestamp": 1697294426176,
     "user": {
      "displayName": "Tanushri Bhaduri",
      "userId": "06665968640507412761"
     },
     "user_tz": -240
    },
    "id": "nPMKNdi8C9nk",
    "outputId": "f4d0f657-b3f2-483f-f204-f60be633c0e5"
   },
   "outputs": [
    {
     "name": "stdout",
     "output_type": "stream",
     "text": [
      "Found 2392 files belonging to 2 classes.\n",
      "Using 478 files for validation.\n"
     ]
    }
   ],
   "source": [
    "validation_set = tf.keras.preprocessing.image_dataset_from_directory(\n",
    "    train_ds,\n",
    "    validation_split=0.2,\n",
    "    subset=\"validation\",\n",
    "    seed=loading_dataste_seed,\n",
    "    image_size=(img_height, img_width),\n",
    "    batch_size=batch_size\n",
    ")"
   ]
  },
  {
   "cell_type": "code",
   "execution_count": 5,
   "metadata": {
    "colab": {
     "base_uri": "https://localhost:8080/"
    },
    "executionInfo": {
     "elapsed": 378,
     "status": "ok",
     "timestamp": 1697294430870,
     "user": {
      "displayName": "Tanushri Bhaduri",
      "userId": "06665968640507412761"
     },
     "user_tz": -240
    },
    "id": "6hy8IaUqDFQy",
    "outputId": "f4e9545c-12ca-4135-8eac-6722a15648ae"
   },
   "outputs": [
    {
     "name": "stdout",
     "output_type": "stream",
     "text": [
      "Found 597 files belonging to 2 classes.\n"
     ]
    }
   ],
   "source": [
    "test_set = tf.keras.preprocessing.image_dataset_from_directory(\n",
    "    test_data_dir,\n",
    "    seed=loading_dataste_seed,\n",
    "    image_size=(img_height, img_width),\n",
    "    batch_size=597\n",
    ")"
   ]
  },
  {
   "cell_type": "markdown",
   "metadata": {},
   "source": [
    "### Function for evaluating model"
   ]
  },
  {
   "cell_type": "code",
   "execution_count": 6,
   "metadata": {
    "executionInfo": {
     "elapsed": 8,
     "status": "ok",
     "timestamp": 1697294432204,
     "user": {
      "displayName": "Tanushri Bhaduri",
      "userId": "06665968640507412761"
     },
     "user_tz": -240
    },
    "id": "9Kzlzby9DVUD"
   },
   "outputs": [],
   "source": [
    "def evaluate_model(model, test_data):\n",
    "    results = {}\n",
    "\n",
    "    predicted_labels = []\n",
    "    true_labels = []\n",
    "    all_images = []\n",
    "    for images, labels in test_data:\n",
    "        true_labels.extend(labels.numpy())\n",
    "        predicted_labels.extend(tf.argmax(model.predict(images), axis=1).numpy())\n",
    "\n",
    "    # Accuracy\n",
    "    results['accuracy'] = accuracy_score(true_labels, predicted_labels)\n",
    "\n",
    "    # F1 Score\n",
    "    results['f1_score'] = f1_score(true_labels, predicted_labels)\n",
    "\n",
    "    cm = confusion_matrix(true_labels, predicted_labels)\n",
    "    print(cm)\n",
    "    print(\"F1 score\",results['f1_score'])\n",
    "    print(\"Accuracy\",results['accuracy'])\n",
    "\n",
    "\n",
    "\n",
    "    return results"
   ]
  },
  {
   "cell_type": "markdown",
   "metadata": {},
   "source": [
    "### Preparing Models"
   ]
  },
  {
   "cell_type": "markdown",
   "metadata": {
    "id": "FmWpTxxBt5lt"
   },
   "source": [
    "#### CNN MODEL"
   ]
  },
  {
   "cell_type": "code",
   "execution_count": 23,
   "metadata": {
    "colab": {
     "base_uri": "https://localhost:8080/"
    },
    "executionInfo": {
     "elapsed": 912,
     "status": "ok",
     "timestamp": 1697294439026,
     "user": {
      "displayName": "Tanushri Bhaduri",
      "userId": "06665968640507412761"
     },
     "user_tz": -240
    },
    "id": "Jezll9y_1GVH",
    "outputId": "b0b6d9f0-fc6d-46bf-a2bd-b0922321d4f6"
   },
   "outputs": [
    {
     "name": "stdout",
     "output_type": "stream",
     "text": [
      "Model: \"sequential_1\"\n",
      "_________________________________________________________________\n",
      " Layer (type)                Output Shape              Param #   \n",
      "=================================================================\n",
      " conv2d_1 (Conv2D)           (None, 222, 222, 32)      896       \n",
      "                                                                 \n",
      " max_pooling2d_1 (MaxPooling  (None, 111, 111, 32)     0         \n",
      " 2D)                                                             \n",
      "                                                                 \n",
      " batch_normalization_1 (Batc  (None, 111, 111, 32)     128       \n",
      " hNormalization)                                                 \n",
      "                                                                 \n",
      " flatten_1 (Flatten)         (None, 394272)            0         \n",
      "                                                                 \n",
      " dense_2 (Dense)             (None, 64)                25233472  \n",
      "                                                                 \n",
      " dense_3 (Dense)             (None, 2)                 130       \n",
      "                                                                 \n",
      "=================================================================\n",
      "Total params: 25,234,626\n",
      "Trainable params: 25,234,562\n",
      "Non-trainable params: 64\n",
      "_________________________________________________________________\n"
     ]
    }
   ],
   "source": [
    "model=tf.keras.Sequential([\n",
    "    tf.keras.layers.Conv2D(32,(3,3),activation='relu',input_shape=(224,224,3)),\n",
    "    tf.keras.layers.MaxPooling2D(),\n",
    "    tf.keras.layers.BatchNormalization(),\n",
    "    tf.keras.layers.Flatten(),\n",
    "    tf.keras.layers.Dense(64,activation='relu'),\n",
    "    tf.keras.layers.Dense(2,activation='softmax')\n",
    "])\n",
    "model.summary()\n"
   ]
  },
  {
   "cell_type": "code",
   "execution_count": 24,
   "metadata": {
    "executionInfo": {
     "elapsed": 679,
     "status": "ok",
     "timestamp": 1697294445974,
     "user": {
      "displayName": "Tanushri Bhaduri",
      "userId": "06665968640507412761"
     },
     "user_tz": -240
    },
    "id": "X_8JFQ-x5mUW"
   },
   "outputs": [],
   "source": [
    "model.compile(optimizer='adam',loss='sparse_categorical_crossentropy',metrics=['accuracy'])"
   ]
  },
  {
   "cell_type": "code",
   "execution_count": 25,
   "metadata": {
    "colab": {
     "base_uri": "https://localhost:8080/"
    },
    "executionInfo": {
     "elapsed": 883251,
     "status": "ok",
     "timestamp": 1697295330257,
     "user": {
      "displayName": "Tanushri Bhaduri",
      "userId": "06665968640507412761"
     },
     "user_tz": -240
    },
    "id": "E3uUVVIV5oSe",
    "outputId": "83d28022-11a9-4f9e-8b94-00e65450d0f5"
   },
   "outputs": [
    {
     "name": "stdout",
     "output_type": "stream",
     "text": [
      "Epoch 1/10\n",
      "60/60 [==============================] - 52s 842ms/step - loss: 8.3142 - accuracy: 0.7680 - val_loss: 93.3565 - val_accuracy: 0.5439\n",
      "Epoch 2/10\n",
      "60/60 [==============================] - 48s 782ms/step - loss: 0.2994 - accuracy: 0.9002 - val_loss: 40.3004 - val_accuracy: 0.5439\n",
      "Epoch 3/10\n",
      "60/60 [==============================] - 48s 776ms/step - loss: 0.1357 - accuracy: 0.9608 - val_loss: 17.8369 - val_accuracy: 0.6318\n",
      "Epoch 4/10\n",
      "60/60 [==============================] - 48s 783ms/step - loss: 0.1760 - accuracy: 0.9681 - val_loss: 9.8891 - val_accuracy: 0.7113\n",
      "Epoch 5/10\n",
      "60/60 [==============================] - 49s 790ms/step - loss: 0.0797 - accuracy: 0.9932 - val_loss: 0.4246 - val_accuracy: 0.9268\n",
      "Epoch 6/10\n",
      "60/60 [==============================] - 48s 775ms/step - loss: 0.0120 - accuracy: 0.9979 - val_loss: 0.3445 - val_accuracy: 0.9833\n",
      "Epoch 7/10\n",
      "60/60 [==============================] - 48s 789ms/step - loss: 0.0102 - accuracy: 0.9979 - val_loss: 0.1784 - val_accuracy: 0.9916\n",
      "Epoch 8/10\n",
      "60/60 [==============================] - 48s 785ms/step - loss: 0.0032 - accuracy: 0.9990 - val_loss: 0.3315 - val_accuracy: 0.9707\n",
      "Epoch 9/10\n",
      "60/60 [==============================] - 49s 792ms/step - loss: 0.0481 - accuracy: 0.9901 - val_loss: 0.5204 - val_accuracy: 0.9644\n",
      "Epoch 10/10\n",
      "60/60 [==============================] - 48s 781ms/step - loss: 0.1002 - accuracy: 0.9854 - val_loss: 0.5155 - val_accuracy: 0.9017\n"
     ]
    }
   ],
   "source": [
    "custom_model_history = model.fit(train_set,validation_data=validation_set,epochs=10)"
   ]
  },
  {
   "cell_type": "code",
   "execution_count": 26,
   "metadata": {
    "colab": {
     "base_uri": "https://localhost:8080/",
     "height": 472
    },
    "executionInfo": {
     "elapsed": 744,
     "status": "ok",
     "timestamp": 1697295357019,
     "user": {
      "displayName": "Tanushri Bhaduri",
      "userId": "06665968640507412761"
     },
     "user_tz": -240
    },
    "id": "03kXBEcJ5428",
    "outputId": "1b3962ff-fb08-4e55-c5fc-ba38b0564c41"
   },
   "outputs": [
    {
     "data": {
      "image/png": "[encoded data removed]",
      "text/plain": [
       "<Figure size 640x480 with 1 Axes>"
      ]
     },
     "metadata": {},
     "output_type": "display_data"
    }
   ],
   "source": [
    "# Plot the CNN Model Accuracy\n",
    "plt.plot(custom_model_history.history['accuracy'])\n",
    "plt.plot(custom_model_history.history['val_accuracy'])\n",
    "plt.title('CNN Model Accuracy')\n",
    "plt.ylabel('Accuracy')\n",
    "plt.xlabel('Epochs')\n",
    "plt.legend(['train', 'validation'])\n",
    "plt.show()"
   ]
  },
  {
   "cell_type": "code",
   "execution_count": 27,
   "metadata": {
    "colab": {
     "base_uri": "https://localhost:8080/",
     "height": 472
    },
    "executionInfo": {
     "elapsed": 506,
     "status": "ok",
     "timestamp": 1697295362369,
     "user": {
      "displayName": "Tanushri Bhaduri",
      "userId": "06665968640507412761"
     },
     "user_tz": -240
    },
    "id": "0z12zRpZ7YXS",
    "outputId": "bf0de93b-093e-4607-e9de-541aad4ff012"
   },
   "outputs": [
    {
     "data": {
      "image/png": "[encoded data removed]",
      "text/plain": [
       "<Figure size 640x480 with 1 Axes>"
      ]
     },
     "metadata": {},
     "output_type": "display_data"
    }
   ],
   "source": [
    "# Plot the CNN Model Loss\n",
    "plt.plot(custom_model_history.history['loss'])\n",
    "plt.plot(custom_model_history.history['val_loss'])\n",
    "plt.title('CNN Model Loss')\n",
    "plt.ylabel('Loss')\n",
    "plt.xlabel('Epochs')\n",
    "plt.legend(['train', 'validation'])\n",
    "plt.show()"
   ]
  },
  {
   "cell_type": "code",
   "execution_count": 28,
   "metadata": {
    "colab": {
     "base_uri": "https://localhost:8080/"
    },
    "executionInfo": {
     "elapsed": 11107,
     "status": "ok",
     "timestamp": 1697295378131,
     "user": {
      "displayName": "Tanushri Bhaduri",
      "userId": "06665968640507412761"
     },
     "user_tz": -240
    },
    "id": "yhY3_gTWHTCD",
    "outputId": "927102e4-ff6f-4866-c552-3cc663324b16"
   },
   "outputs": [
    {
     "name": "stdout",
     "output_type": "stream",
     "text": [
      "19/19 [==============================] - 2s 109ms/step\n",
      "[[286   4]\n",
      " [ 66 241]]\n",
      "F1 score 0.8731884057971014\n",
      "Accuracy 0.8827470686767169\n"
     ]
    }
   ],
   "source": [
    "# Evaluate the CNN Model\n",
    "custom_model_evaluation = evaluate_model(model, test_set)"
   ]
  },
  {
   "cell_type": "code",
   "execution_count": 29,
   "metadata": {
    "id": "Ycgh8jhyiNiM"
   },
   "outputs": [
    {
     "name": "stderr",
     "output_type": "stream",
     "text": [
      "WARNING:absl:Found untraced functions such as _jit_compiled_convolution_op while saving (showing 1 of 1). These functions will not be directly callable after loading.\n"
     ]
    },
    {
     "name": "stdout",
     "output_type": "stream",
     "text": [
      "INFO:tensorflow:Assets written to: ram://b04abb87-8432-4fe7-842f-92ee7d166b5e/assets\n"
     ]
    },
    {
     "name": "stderr",
     "output_type": "stream",
     "text": [
      "INFO:tensorflow:Assets written to: ram://b04abb87-8432-4fe7-842f-92ee7d166b5e/assets\n"
     ]
    },
    {
     "name": "stdout",
     "output_type": "stream",
     "text": [
      "CNN Model: 288.83 MB\n"
     ]
    }
   ],
   "source": [
    "# Calculate the size of the CNN Model\n",
    "cnn_model = '../Final_model/cnn_model.h5'\n",
    "pickle.dump(model, open(cnn_model, 'wb'))\n",
    "model.save(cnn_model)\n",
    "cnn_model_size = format((os.path.getsize(cnn_model)/(1024*1024)),\".2f\")\n",
    "print(\"CNN Model:\",cnn_model_size,\"MB\")"
   ]
  },
  {
   "cell_type": "markdown",
   "metadata": {
    "id": "GxIPXZ76Vx6Y"
   },
   "source": [
    "#### ResNet Model"
   ]
  },
  {
   "cell_type": "code",
   "execution_count": 30,
   "metadata": {
    "colab": {
     "base_uri": "https://localhost:8080/"
    },
    "executionInfo": {
     "elapsed": 3278,
     "status": "ok",
     "timestamp": 1697295945656,
     "user": {
      "displayName": "Tanushri Bhaduri",
      "userId": "06665968640507412761"
     },
     "user_tz": -240
    },
    "id": "_aHQ3EmxHp4P",
    "outputId": "9b4df5e1-4fde-49cf-bf98-1d9cc96a8759"
   },
   "outputs": [],
   "source": [
    "base_model = ResNet50(weights= 'imagenet', include_top=False, input_shape= (224,224,3), classes=2)\n",
    "for layer in base_model.layers:\n",
    "    layer.trainable=False"
   ]
  },
  {
   "cell_type": "code",
   "execution_count": 31,
   "metadata": {
    "colab": {
     "base_uri": "https://localhost:8080/"
    },
    "executionInfo": {
     "elapsed": 2600,
     "status": "ok",
     "timestamp": 1697295950828,
     "user": {
      "displayName": "Tanushri Bhaduri",
      "userId": "06665968640507412761"
     },
     "user_tz": -240
    },
    "id": "q3sKlsS0WiCR",
    "outputId": "971d3bae-34e6-46c5-e800-ab9023a318c6"
   },
   "outputs": [
    {
     "name": "stdout",
     "output_type": "stream",
     "text": [
      "Model: \"sequential_2\"\n",
      "_________________________________________________________________\n",
      " Layer (type)                Output Shape              Param #   \n",
      "=================================================================\n",
      " resnet50 (Functional)       (None, 7, 7, 2048)        23587712  \n",
      "                                                                 \n",
      " batch_normalization_2 (Batc  (None, 7, 7, 2048)       8192      \n",
      " hNormalization)                                                 \n",
      "                                                                 \n",
      " flatten_2 (Flatten)         (None, 100352)            0         \n",
      "                                                                 \n",
      " dense_4 (Dense)             (None, 512)               51380736  \n",
      "                                                                 \n",
      " dense_5 (Dense)             (None, 2)                 1026      \n",
      "                                                                 \n",
      "=================================================================\n",
      "Total params: 74,977,666\n",
      "Trainable params: 51,385,858\n",
      "Non-trainable params: 23,591,808\n",
      "_________________________________________________________________\n"
     ]
    }
   ],
   "source": [
    "resnet_model= Sequential()\n",
    "resnet_model.add(base_model)\n",
    "resnet_model.add(tf.keras.layers.BatchNormalization())\n",
    "resnet_model.add(tf.keras.layers.Flatten())\n",
    "resnet_model.add(tf.keras.layers.Dense(512, activation='relu'))\n",
    "resnet_model.add(tf.keras.layers.Dense(2, activation='softmax'))\n",
    "resnet_model.summary()"
   ]
  },
  {
   "cell_type": "code",
   "execution_count": 32,
   "metadata": {
    "executionInfo": {
     "elapsed": 335,
     "status": "ok",
     "timestamp": 1697295954340,
     "user": {
      "displayName": "Tanushri Bhaduri",
      "userId": "06665968640507412761"
     },
     "user_tz": -240
    },
    "id": "Wo5zUpUmWm3X"
   },
   "outputs": [],
   "source": [
    "resnet_model.compile(optimizer='Adam',loss='sparse_categorical_crossentropy',metrics=['accuracy'])"
   ]
  },
  {
   "cell_type": "code",
   "execution_count": 33,
   "metadata": {
    "colab": {
     "base_uri": "https://localhost:8080/"
    },
    "executionInfo": {
     "elapsed": 3781577,
     "status": "ok",
     "timestamp": 1697299737039,
     "user": {
      "displayName": "Tanushri Bhaduri",
      "userId": "06665968640507412761"
     },
     "user_tz": -240
    },
    "id": "BictJ6cnW9J4",
    "outputId": "04c8f1ec-7783-41fb-9609-254f48b205e7",
    "scrolled": true
   },
   "outputs": [
    {
     "name": "stdout",
     "output_type": "stream",
     "text": [
      "Epoch 1/10\n",
      "60/60 [==============================] - 270s 4s/step - loss: 5.2601 - accuracy: 0.8992 - val_loss: 2.2674 - val_accuracy: 0.9540\n",
      "Epoch 2/10\n",
      "60/60 [==============================] - 259s 4s/step - loss: 0.4439 - accuracy: 0.9833 - val_loss: 0.4334 - val_accuracy: 0.9895\n",
      "Epoch 3/10\n",
      "60/60 [==============================] - 256s 4s/step - loss: 0.0648 - accuracy: 0.9958 - val_loss: 0.9832 - val_accuracy: 0.9791\n",
      "Epoch 4/10\n",
      "60/60 [==============================] - 258s 4s/step - loss: 0.4651 - accuracy: 0.9848 - val_loss: 1.0320 - val_accuracy: 0.9707\n",
      "Epoch 5/10\n",
      "60/60 [==============================] - 262s 4s/step - loss: 0.2671 - accuracy: 0.9869 - val_loss: 0.5030 - val_accuracy: 0.9916\n",
      "Epoch 6/10\n",
      "60/60 [==============================] - 265s 4s/step - loss: 0.0773 - accuracy: 0.9948 - val_loss: 1.2588 - val_accuracy: 0.9749\n",
      "Epoch 7/10\n",
      "60/60 [==============================] - 258s 4s/step - loss: 0.0662 - accuracy: 0.9963 - val_loss: 0.3957 - val_accuracy: 0.9937\n",
      "Epoch 8/10\n",
      "60/60 [==============================] - 259s 4s/step - loss: 0.0033 - accuracy: 0.9990 - val_loss: 0.3778 - val_accuracy: 0.9854\n",
      "Epoch 9/10\n",
      "60/60 [==============================] - 260s 4s/step - loss: 0.0619 - accuracy: 0.9963 - val_loss: 0.3998 - val_accuracy: 0.9916\n",
      "Epoch 10/10\n",
      "60/60 [==============================] - 260s 4s/step - loss: 0.0212 - accuracy: 0.9990 - val_loss: 0.5774 - val_accuracy: 0.9874\n"
     ]
    }
   ],
   "source": [
    "resnet_model_history = resnet_model.fit(train_set,validation_data=validation_set,epochs=10)"
   ]
  },
  {
   "cell_type": "code",
   "execution_count": 34,
   "metadata": {
    "colab": {
     "base_uri": "https://localhost:8080/",
     "height": 472
    },
    "executionInfo": {
     "elapsed": 939,
     "status": "ok",
     "timestamp": 1697300598753,
     "user": {
      "displayName": "Tanushri Bhaduri",
      "userId": "06665968640507412761"
     },
     "user_tz": -240
    },
    "id": "YH6RJiacXFHS",
    "outputId": "aeaa8683-501b-4486-a64a-ea02761d3ca1"
   },
   "outputs": [
    {
     "data": {
      "image/png": "[encoded data removed]",
      "text/plain": [
       "<Figure size 640x480 with 1 Axes>"
      ]
     },
     "metadata": {},
     "output_type": "display_data"
    }
   ],
   "source": [
    "# Plot the ResNet Model Accuracy\n",
    "fig1 = plt.gcf()\n",
    "plt.plot(resnet_model_history.history['accuracy'])\n",
    "plt.plot(resnet_model_history.history['val_accuracy'])\n",
    "plt.title('Resnet Model Accuracy')\n",
    "plt.ylabel('Accuracy')\n",
    "plt.xlabel('Epochs')\n",
    "plt.legend(['train', 'validation'])\n",
    "plt.show()"
   ]
  },
  {
   "cell_type": "code",
   "execution_count": 35,
   "metadata": {
    "colab": {
     "base_uri": "https://localhost:8080/",
     "height": 472
    },
    "executionInfo": {
     "elapsed": 493,
     "status": "ok",
     "timestamp": 1697300608488,
     "user": {
      "displayName": "Tanushri Bhaduri",
      "userId": "06665968640507412761"
     },
     "user_tz": -240
    },
    "id": "iDfYOvFqXPX4",
    "outputId": "6f5f65f8-418b-4763-81fa-a10c66dbaa17"
   },
   "outputs": [
    {
     "data": {
      "image/png": "[encoded data removed]",
      "text/plain": [
       "<Figure size 640x480 with 1 Axes>"
      ]
     },
     "metadata": {},
     "output_type": "display_data"
    }
   ],
   "source": [
    "# Plot the ResNet Model Loss\n",
    "plt.plot(resnet_model_history.history['loss'])\n",
    "plt.plot(resnet_model_history.history['val_loss'])\n",
    "plt.title('Resnet Model Loss')\n",
    "plt.ylabel('Loss')\n",
    "plt.xlabel('Epochs')\n",
    "plt.legend(['train', 'validation'])\n",
    "plt.show()"
   ]
  },
  {
   "cell_type": "code",
   "execution_count": 36,
   "metadata": {
    "colab": {
     "base_uri": "https://localhost:8080/"
    },
    "executionInfo": {
     "elapsed": 87432,
     "status": "ok",
     "timestamp": 1697300702048,
     "user": {
      "displayName": "Tanushri Bhaduri",
      "userId": "06665968640507412761"
     },
     "user_tz": -240
    },
    "id": "L2VqtP1-Z25V",
    "outputId": "8ea9a128-b399-4c69-e1e4-8465f3605498"
   },
   "outputs": [
    {
     "name": "stdout",
     "output_type": "stream",
     "text": [
      "19/19 [==============================] - 56s 3s/step\n",
      "[[283   7]\n",
      " [  0 307]]\n",
      "F1 score 0.9887278582930756\n",
      "Accuracy 0.9882747068676717\n"
     ]
    }
   ],
   "source": [
    "# Evaluate the ResNet Model\n",
    "resnet_model_evaluation = evaluate_model(resnet_model, test_set)"
   ]
  },
  {
   "cell_type": "code",
   "execution_count": 37,
   "metadata": {},
   "outputs": [
    {
     "name": "stderr",
     "output_type": "stream",
     "text": [
      "WARNING:absl:Found untraced functions such as _jit_compiled_convolution_op, _jit_compiled_convolution_op, _jit_compiled_convolution_op, _jit_compiled_convolution_op, _jit_compiled_convolution_op while saving (showing 5 of 53). These functions will not be directly callable after loading.\n"
     ]
    },
    {
     "name": "stdout",
     "output_type": "stream",
     "text": [
      "INFO:tensorflow:Assets written to: ram://e30669d6-94fb-4059-a198-4a1c78e7208d/assets\n"
     ]
    },
    {
     "name": "stderr",
     "output_type": "stream",
     "text": [
      "INFO:tensorflow:Assets written to: ram://e30669d6-94fb-4059-a198-4a1c78e7208d/assets\n"
     ]
    },
    {
     "name": "stdout",
     "output_type": "stream",
     "text": [
      "Resnet Model: 678.39 MB\n"
     ]
    }
   ],
   "source": [
    "# Calculate the size of the ResNet Model\n",
    "res_model_path = '../Final_model/res_model.h5'\n",
    "pickle.dump(resnet_model, open(res_model_path, 'wb'))\n",
    "resnet_model.save(res_model_path)\n",
    "res_model_size = format((os.path.getsize(res_model_path)/(1024*1024)),\".2f\")\n",
    "print(\"Resnet Model:\",res_model_size,\"MB\")"
   ]
  },
  {
   "cell_type": "markdown",
   "metadata": {
    "id": "Jsr6A9YPAZpP"
   },
   "source": [
    "#### Mobile Net Model"
   ]
  },
  {
   "cell_type": "code",
   "execution_count": 7,
   "metadata": {},
   "outputs": [
    {
     "name": "stdout",
     "output_type": "stream",
     "text": [
      "Model: \"sequential\"\n",
      "_________________________________________________________________\n",
      " Layer (type)                Output Shape              Param #   \n",
      "=================================================================\n",
      " mobilenetv2_1.00_224 (Funct  (None, 1280)             2257984   \n",
      " ional)                                                          \n",
      "                                                                 \n",
      " flatten (Flatten)           (None, 1280)              0         \n",
      "                                                                 \n",
      " dense (Dense)               (None, 512)               655872    \n",
      "                                                                 \n",
      " dense_1 (Dense)             (None, 2)                 1026      \n",
      "                                                                 \n",
      "=================================================================\n",
      "Total params: 2,914,882\n",
      "Trainable params: 656,898\n",
      "Non-trainable params: 2,257,984\n",
      "_________________________________________________________________\n"
     ]
    }
   ],
   "source": [
    "mobilenet_model = Sequential()\n",
    "\n",
    "mobilenet_pretrained_model= tf.keras.applications.mobilenet_v2.MobileNetV2(\n",
    "    include_top=False,\n",
    "    input_shape=(img_width, img_height, img_channels),\n",
    "    pooling='avg',\n",
    "    weights='imagenet'\n",
    ")\n",
    "\n",
    "for layer in mobilenet_pretrained_model.layers:\n",
    "        layer.trainable=False\n",
    "\n",
    "mobilenet_model.add(mobilenet_pretrained_model)\n",
    "mobilenet_model.add(tf.keras.layers.Flatten())\n",
    "mobilenet_model.add(tf.keras.layers.Dense(512, activation='relu'))\n",
    "mobilenet_model.add(tf.keras.layers.Dense(2, activation='softmax'))\n",
    "mobilenet_model.summary()\n",
    "mobilenet_model.compile(optimizer=tf.keras.optimizers.Adam(), loss='sparse_categorical_crossentropy', metrics=['accuracy'])"
   ]
  },
  {
   "cell_type": "code",
   "execution_count": 8,
   "metadata": {
    "colab": {
     "base_uri": "https://localhost:8080/"
    },
    "executionInfo": {
     "elapsed": 802531,
     "status": "ok",
     "timestamp": 1697301563186,
     "user": {
      "displayName": "Tanushri Bhaduri",
      "userId": "06665968640507412761"
     },
     "user_tz": -240
    },
    "id": "ZAi9gEmn70Hu",
    "outputId": "d1b023ac-ec53-4ba7-b549-ae1675e81060"
   },
   "outputs": [
    {
     "name": "stdout",
     "output_type": "stream",
     "text": [
      "Epoch 1/10\n",
      "60/60 [==============================] - 182s 2s/step - loss: 0.6581 - accuracy: 0.7074 - val_loss: 0.4173 - val_accuracy: 0.8368\n",
      "Epoch 2/10\n",
      "60/60 [==============================] - 74s 1s/step - loss: 0.3029 - accuracy: 0.8856 - val_loss: 0.3332 - val_accuracy: 0.8556\n",
      "Epoch 3/10\n",
      "60/60 [==============================] - 69s 1s/step - loss: 0.2364 - accuracy: 0.9117 - val_loss: 0.2601 - val_accuracy: 0.8975\n",
      "Epoch 4/10\n",
      "60/60 [==============================] - 69s 1s/step - loss: 0.1767 - accuracy: 0.9431 - val_loss: 0.1836 - val_accuracy: 0.9331\n",
      "Epoch 5/10\n",
      "60/60 [==============================] - 70s 1s/step - loss: 0.1252 - accuracy: 0.9603 - val_loss: 0.2237 - val_accuracy: 0.9079\n",
      "Epoch 6/10\n",
      "60/60 [==============================] - 68s 1s/step - loss: 0.1279 - accuracy: 0.9577 - val_loss: 0.1489 - val_accuracy: 0.9435\n",
      "Epoch 7/10\n",
      "60/60 [==============================] - 69s 1s/step - loss: 0.1078 - accuracy: 0.9619 - val_loss: 0.1087 - val_accuracy: 0.9582\n",
      "Epoch 8/10\n",
      "60/60 [==============================] - 69s 1s/step - loss: 0.0721 - accuracy: 0.9770 - val_loss: 0.1055 - val_accuracy: 0.9644\n",
      "Epoch 9/10\n",
      "60/60 [==============================] - 67s 1s/step - loss: 0.0615 - accuracy: 0.9854 - val_loss: 0.1062 - val_accuracy: 0.9582\n",
      "Epoch 10/10\n",
      "60/60 [==============================] - 70s 1s/step - loss: 0.0465 - accuracy: 0.9896 - val_loss: 0.1022 - val_accuracy: 0.9582\n"
     ]
    }
   ],
   "source": [
    "mobilenet_history = mobilenet_model.fit(train_set,validation_data=validation_set,epochs=10)"
   ]
  },
  {
   "cell_type": "code",
   "execution_count": 9,
   "metadata": {
    "colab": {
     "base_uri": "https://localhost:8080/",
     "height": 472
    },
    "executionInfo": {
     "elapsed": 634,
     "status": "ok",
     "timestamp": 1697301777384,
     "user": {
      "displayName": "Tanushri Bhaduri",
      "userId": "06665968640507412761"
     },
     "user_tz": -240
    },
    "id": "TsmJzZrXLGjr",
    "outputId": "4880640d-e70a-4be2-d226-83b0776be8bf"
   },
   "outputs": [
    {
     "data": {
      "image/png": "[encoded data removed]",
      "text/plain": [
       "<Figure size 640x480 with 1 Axes>"
      ]
     },
     "metadata": {},
     "output_type": "display_data"
    }
   ],
   "source": [
    "# Plot the MobileNet Model Accuracy\n",
    "fig1 = plt.gcf()\n",
    "plt.plot(mobilenet_history.history['accuracy'])\n",
    "plt.plot(mobilenet_history.history['val_accuracy'])\n",
    "plt.title('Mobilenet Model Accuracy')\n",
    "plt.ylabel('Accuracy')\n",
    "plt.xlabel('Epochs')\n",
    "plt.legend(['train', 'validation'])\n",
    "plt.show()"
   ]
  },
  {
   "cell_type": "code",
   "execution_count": 10,
   "metadata": {
    "colab": {
     "base_uri": "https://localhost:8080/",
     "height": 472
    },
    "executionInfo": {
     "elapsed": 1023,
     "status": "ok",
     "timestamp": 1697301784387,
     "user": {
      "displayName": "Tanushri Bhaduri",
      "userId": "06665968640507412761"
     },
     "user_tz": -240
    },
    "id": "-900cpReKXyv",
    "outputId": "cb715626-9ae8-431a-93c9-d239b6770aaf"
   },
   "outputs": [
    {
     "data": {
      "image/png": "[encoded data removed]",
      "text/plain": [
       "<Figure size 640x480 with 1 Axes>"
      ]
     },
     "metadata": {},
     "output_type": "display_data"
    }
   ],
   "source": [
    "# Plot the MobileNet Model Loss\n",
    "plt.plot(mobilenet_history.history['loss'])\n",
    "plt.plot(mobilenet_history.history['val_loss'])\n",
    "plt.title('Mobilenet Model Loss')\n",
    "plt.ylabel('Loss')\n",
    "plt.xlabel('Epochs')\n",
    "plt.legend(['train', 'validation'])\n",
    "plt.show()"
   ]
  },
  {
   "cell_type": "code",
   "execution_count": 11,
   "metadata": {
    "colab": {
     "base_uri": "https://localhost:8080/"
    },
    "executionInfo": {
     "elapsed": 41345,
     "status": "ok",
     "timestamp": 1697301829395,
     "user": {
      "displayName": "Tanushri Bhaduri",
      "userId": "06665968640507412761"
     },
     "user_tz": -240
    },
    "id": "_Id1CE6zYz-A",
    "outputId": "5250aaf8-82d7-43d8-f208-e97ac1c769a9"
   },
   "outputs": [
    {
     "name": "stdout",
     "output_type": "stream",
     "text": [
      "19/19 [==============================] - 17s 781ms/step\n",
      "[[267  23]\n",
      " [  0 307]]\n",
      "F1 score 0.9638932496075354\n",
      "Accuracy 0.9614740368509213\n"
     ]
    }
   ],
   "source": [
    "# Evaluate the MobileNet Model\n",
    "mobilenet_model_evaluation = evaluate_model(mobilenet_model, test_set)"
   ]
  },
  {
   "cell_type": "code",
   "execution_count": 12,
   "metadata": {
    "id": "7zUWZ7tYeYYg"
   },
   "outputs": [
    {
     "name": "stderr",
     "output_type": "stream",
     "text": [
      "WARNING:absl:Function `_wrapped_model` contains input name(s) mobilenetv2_1.00_224_input with unsupported characters which will be renamed to mobilenetv2_1_00_224_input in the SavedModel.\n",
      "WARNING:absl:Found untraced functions such as _jit_compiled_convolution_op, _jit_compiled_convolution_op, _jit_compiled_convolution_op, _jit_compiled_convolution_op, _jit_compiled_convolution_op while saving (showing 5 of 52). These functions will not be directly callable after loading.\n"
     ]
    },
    {
     "name": "stdout",
     "output_type": "stream",
     "text": [
      "INFO:tensorflow:Assets written to: ram://22d73394-338b-4894-b251-3c835d87356c/assets\n"
     ]
    },
    {
     "name": "stderr",
     "output_type": "stream",
     "text": [
      "INFO:tensorflow:Assets written to: ram://22d73394-338b-4894-b251-3c835d87356c/assets\n"
     ]
    },
    {
     "name": "stdout",
     "output_type": "stream",
     "text": [
      "Mobile Net Model: 16.43 MB\n"
     ]
    }
   ],
   "source": [
    "# Calculate the size of the MobileNet Model\n",
    "mobile_model_path = '../Final_model/mobile_model.h5'\n",
    "pickle.dump(mobilenet_model, open(mobile_model_path, 'wb'))\n",
    "mobilenet_model.save(mobile_model_path)\n",
    "mobile_model_size = format((os.path.getsize(mobile_model_path)/(1024*1024)),\".2f\")\n",
    "print(\"Mobile Net Model:\",mobile_model_size,\"MB\")"
   ]
  },
  {
   "cell_type": "markdown",
   "metadata": {},
   "source": [
    "### Conclusion:"
   ]
  },
  {
   "cell_type": "markdown",
   "metadata": {},
   "source": [
    "As per the requirement of the company, we build deep learning model which can detect the image of the book shows flip page or not. Though out of the CNN,Resnet and Mobile net models, Resnet is giving hightest accuracy. But company need to use this model in mobile app, so we choose mobile net model with f1 score 97.9%. "
   ]
  },
  {
   "cell_type": "code",
   "execution_count": null,
   "metadata": {},
   "outputs": [],
   "source": []
  }
 ],
 "metadata": {
  "colab": {
   "authorship_tag": "ABX9TyMS1tvPseyxmQxCLrrIzjLi",
   "provenance": [
    {
     "file_id": "1LAzHBT4BYQ0c75d82BG6f9Zd-RxNRNUl",
     "timestamp": 1696776900786
    }
   ]
  },
  "kernelspec": {
   "display_name": "Python 3 (ipykernel)",
   "language": "python",
   "name": "python3"
  },
  "language_info": {
   "codemirror_mode": {
    "name": "ipython",
    "version": 3
   },
   "file_extension": ".py",
   "mimetype": "text/x-python",
   "name": "python",
   "nbconvert_exporter": "python",
   "pygments_lexer": "ipython3",
   "version": "3.9.17"
  }
 },
 "nbformat": 4,
 "nbformat_minor": 1
}
