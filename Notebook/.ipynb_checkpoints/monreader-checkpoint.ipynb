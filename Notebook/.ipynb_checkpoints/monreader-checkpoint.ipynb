{
 "cells": [
  {
   "cell_type": "code",
   "execution_count": 1,
   "metadata": {
    "executionInfo": {
     "elapsed": 334,
     "status": "ok",
     "timestamp": 1697309664902,
     "user": {
      "displayName": "Tanushri Bhaduri",
      "userId": "06665968640507412761"
     },
     "user_tz": -240
    },
    "id": "H1oAK8kMxPOI"
   },
   "outputs": [],
   "source": [
    "import os\n",
    "import numpy as np\n",
    "import tensorflow as tf\n",
    "from tqdm import tqdm\n",
    "from sklearn.model_selection import train_test_split\n",
    "from tensorflow.keras.models import Sequential\n",
    "import matplotlib.pyplot as plt\n",
    "from sklearn.metrics import classification_report, confusion_matrix\n",
    "from sklearn.metrics import accuracy_score\n",
    "from sklearn.metrics import f1_score\n",
    "import random\n",
    "import pickle\n",
    "import cv2\n",
    "from tensorflow import keras\n",
    "from tensorflow.keras.applications import ResNet50\n",
    "import tensorflow_hub as hub\n",
    "from keras.applications.mobilenet_v2 import MobileNetV2\n",
    "from tensorflow.keras.applications.resnet50 import preprocess_input\n",
    "from tensorflow.keras import layers\n",
    "from tensorflow.keras.models import Sequential, Model"
   ]
  },
  {
   "cell_type": "code",
   "execution_count": 2,
   "metadata": {
    "colab": {
     "base_uri": "https://localhost:8080/"
    },
    "executionInfo": {
     "elapsed": 25926,
     "status": "ok",
     "timestamp": 1697291018923,
     "user": {
      "displayName": "Tanushri Bhaduri",
      "userId": "06665968640507412761"
     },
     "user_tz": -240
    },
    "id": "xqSBl_W0yg2I",
    "outputId": "08637cb7-ed88-4242-ec86-0b2663ee910d"
   },
   "outputs": [
    {
     "data": {
      "text/plain": [
       "\"\\nfrom google.colab import drive\\ndrive.mount('/content/drive')\\n\""
      ]
     },
     "execution_count": 2,
     "metadata": {},
     "output_type": "execute_result"
    }
   ],
   "source": [
    "\"\"\"\n",
    "from google.colab import drive\n",
    "drive.mount('/content/drive')\n",
    "\"\"\""
   ]
  },
  {
   "cell_type": "code",
   "execution_count": 3,
   "metadata": {
    "colab": {
     "base_uri": "https://localhost:8080/"
    },
    "executionInfo": {
     "elapsed": 384,
     "status": "ok",
     "timestamp": 1697291020300,
     "user": {
      "displayName": "Tanushri Bhaduri",
      "userId": "06665968640507412761"
     },
     "user_tz": -240
    },
    "id": "gI8LYuXUys58",
    "outputId": "4f931150-cd22-40c5-874f-ec75ea7b6688"
   },
   "outputs": [],
   "source": [
    "#!ls \"/content/drive/My Drive/\""
   ]
  },
  {
   "cell_type": "code",
   "execution_count": 4,
   "metadata": {
    "executionInfo": {
     "elapsed": 582,
     "status": "ok",
     "timestamp": 1697294422376,
     "user": {
      "displayName": "Tanushri Bhaduri",
      "userId": "06665968640507412761"
     },
     "user_tz": -240
    },
    "id": "PEp3oOFNy4AP"
   },
   "outputs": [],
   "source": [
    "img_height, img_width, img_channels = 224,224,3\n",
    "batch_size=32\n",
    "train_ds = \"../Data/images/training\"\n",
    "test_data_dir = \"../Data/images/testing\"\n",
    "loading_dataste_seed = 0"
   ]
  },
  {
   "cell_type": "code",
   "execution_count": 5,
   "metadata": {
    "colab": {
     "base_uri": "https://localhost:8080/"
    },
    "executionInfo": {
     "elapsed": 993,
     "status": "ok",
     "timestamp": 1697294424612,
     "user": {
      "displayName": "Tanushri Bhaduri",
      "userId": "06665968640507412761"
     },
     "user_tz": -240
    },
    "id": "udLneF1GzOLn",
    "outputId": "a58a7239-02aa-4dcf-ec81-60b734dc7e1a"
   },
   "outputs": [
    {
     "name": "stdout",
     "output_type": "stream",
     "text": [
      "Found 2392 files belonging to 2 classes.\n",
      "Using 1914 files for training.\n"
     ]
    }
   ],
   "source": [
    "\n",
    "train_set = tf.keras.preprocessing.image_dataset_from_directory(\n",
    "    train_ds,\n",
    "    validation_split=0.2,\n",
    "    subset=\"training\",\n",
    "    seed=loading_dataste_seed,\n",
    "    image_size=(img_height, img_width),\n",
    "    batch_size=batch_size\n",
    ")"
   ]
  },
  {
   "cell_type": "code",
   "execution_count": 6,
   "metadata": {
    "colab": {
     "base_uri": "https://localhost:8080/"
    },
    "executionInfo": {
     "elapsed": 1207,
     "status": "ok",
     "timestamp": 1697294426176,
     "user": {
      "displayName": "Tanushri Bhaduri",
      "userId": "06665968640507412761"
     },
     "user_tz": -240
    },
    "id": "nPMKNdi8C9nk",
    "outputId": "f4d0f657-b3f2-483f-f204-f60be633c0e5"
   },
   "outputs": [
    {
     "name": "stdout",
     "output_type": "stream",
     "text": [
      "Found 2392 files belonging to 2 classes.\n",
      "Using 478 files for validation.\n"
     ]
    }
   ],
   "source": [
    "validation_set = tf.keras.preprocessing.image_dataset_from_directory(\n",
    "    train_ds,\n",
    "    validation_split=0.2,\n",
    "    subset=\"validation\",\n",
    "    seed=loading_dataste_seed,\n",
    "    image_size=(img_height, img_width),\n",
    "    batch_size=batch_size\n",
    ")"
   ]
  },
  {
   "cell_type": "code",
   "execution_count": 7,
   "metadata": {
    "colab": {
     "base_uri": "https://localhost:8080/"
    },
    "executionInfo": {
     "elapsed": 378,
     "status": "ok",
     "timestamp": 1697294430870,
     "user": {
      "displayName": "Tanushri Bhaduri",
      "userId": "06665968640507412761"
     },
     "user_tz": -240
    },
    "id": "6hy8IaUqDFQy",
    "outputId": "f4e9545c-12ca-4135-8eac-6722a15648ae"
   },
   "outputs": [
    {
     "name": "stdout",
     "output_type": "stream",
     "text": [
      "Found 597 files belonging to 2 classes.\n"
     ]
    }
   ],
   "source": [
    "test_set = tf.keras.preprocessing.image_dataset_from_directory(\n",
    "    test_data_dir,\n",
    "    seed=loading_dataste_seed,\n",
    "    image_size=(img_height, img_width),\n",
    "    batch_size=batch_size\n",
    ")"
   ]
  },
  {
   "cell_type": "code",
   "execution_count": 8,
   "metadata": {
    "executionInfo": {
     "elapsed": 8,
     "status": "ok",
     "timestamp": 1697294432204,
     "user": {
      "displayName": "Tanushri Bhaduri",
      "userId": "06665968640507412761"
     },
     "user_tz": -240
    },
    "id": "9Kzlzby9DVUD"
   },
   "outputs": [],
   "source": [
    "def evaluate_model(model, test_data):\n",
    "    results = {}\n",
    "\n",
    "    predicted_labels = []\n",
    "    true_labels = []\n",
    "    all_images = []\n",
    "    for images, labels in test_data:\n",
    "        true_labels.extend(labels.numpy())\n",
    "        predicted_labels.extend(tf.argmax(model.predict(images), axis=1).numpy())\n",
    "\n",
    "    # Accuracy\n",
    "    results['accuracy'] = accuracy_score(true_labels, predicted_labels)\n",
    "\n",
    "    # F1 Score\n",
    "    results['f1_score'] = f1_score(true_labels, predicted_labels)\n",
    "\n",
    "    cm = confusion_matrix(true_labels, predicted_labels)\n",
    "    print(cm)\n",
    "    print(\"F1 score\",results['f1_score'])\n",
    "    print(\"Accuracy\",results['accuracy'])\n",
    "\n",
    "\n",
    "\n",
    "    return results"
   ]
  },
  {
   "cell_type": "markdown",
   "metadata": {
    "id": "FmWpTxxBt5lt"
   },
   "source": [
    "CNN MODEL"
   ]
  },
  {
   "cell_type": "code",
   "execution_count": 9,
   "metadata": {
    "colab": {
     "base_uri": "https://localhost:8080/"
    },
    "executionInfo": {
     "elapsed": 912,
     "status": "ok",
     "timestamp": 1697294439026,
     "user": {
      "displayName": "Tanushri Bhaduri",
      "userId": "06665968640507412761"
     },
     "user_tz": -240
    },
    "id": "Jezll9y_1GVH",
    "outputId": "b0b6d9f0-fc6d-46bf-a2bd-b0922321d4f6"
   },
   "outputs": [
    {
     "name": "stdout",
     "output_type": "stream",
     "text": [
      "Model: \"sequential\"\n",
      "_________________________________________________________________\n",
      " Layer (type)                Output Shape              Param #   \n",
      "=================================================================\n",
      " conv2d (Conv2D)             (None, 222, 222, 32)      896       \n",
      "                                                                 \n",
      " max_pooling2d (MaxPooling2D  (None, 111, 111, 32)     0         \n",
      " )                                                               \n",
      "                                                                 \n",
      " batch_normalization (BatchN  (None, 111, 111, 32)     128       \n",
      " ormalization)                                                   \n",
      "                                                                 \n",
      " flatten (Flatten)           (None, 394272)            0         \n",
      "                                                                 \n",
      " dense (Dense)               (None, 64)                25233472  \n",
      "                                                                 \n",
      " dense_1 (Dense)             (None, 2)                 130       \n",
      "                                                                 \n",
      "=================================================================\n",
      "Total params: 25,234,626\n",
      "Trainable params: 25,234,562\n",
      "Non-trainable params: 64\n",
      "_________________________________________________________________\n"
     ]
    }
   ],
   "source": [
    "model=tf.keras.Sequential([\n",
    "    tf.keras.layers.Conv2D(32,(3,3),activation='relu',input_shape=(224,224,3)),\n",
    "    tf.keras.layers.MaxPooling2D(),\n",
    "    tf.keras.layers.BatchNormalization(),\n",
    "    #tf.keras.layers.Conv2D(64,(3,3),activation='relu'),\n",
    "    #tf.keras.layers.MaxPooling2D(),\n",
    "    #tf.keras.layers.BatchNormalization(),\n",
    "    #tf.keras.layers.Conv2D(128,(3,3),activation='relu'),\n",
    "    #tf.keras.layers.MaxPooling2D(),\n",
    "    #\n",
    "    #tf.keras.layers.Conv2D(256,(3,3),activation='relu'),\n",
    "    #tf.keras.layers.MaxPooling2D(2,2),\n",
    "    #tf.keras.layers.BatchNormalization(),\n",
    "    #tf.keras.layers.Conv2D(512,(3,3),activation='relu'),\n",
    "    #tf.keras.layers.MaxPooling2D(2,2),\n",
    "    tf.keras.layers.Flatten(),\n",
    "    tf.keras.layers.Dense(64,activation='relu'),\n",
    "    tf.keras.layers.Dense(2,activation='softmax')\n",
    "])\n",
    "model.summary()\n"
   ]
  },
  {
   "cell_type": "code",
   "execution_count": 10,
   "metadata": {
    "executionInfo": {
     "elapsed": 679,
     "status": "ok",
     "timestamp": 1697294445974,
     "user": {
      "displayName": "Tanushri Bhaduri",
      "userId": "06665968640507412761"
     },
     "user_tz": -240
    },
    "id": "X_8JFQ-x5mUW"
   },
   "outputs": [],
   "source": [
    "model.compile(optimizer='adam',loss='sparse_categorical_crossentropy',metrics=['accuracy'])"
   ]
  },
  {
   "cell_type": "code",
   "execution_count": 11,
   "metadata": {
    "colab": {
     "base_uri": "https://localhost:8080/"
    },
    "executionInfo": {
     "elapsed": 883251,
     "status": "ok",
     "timestamp": 1697295330257,
     "user": {
      "displayName": "Tanushri Bhaduri",
      "userId": "06665968640507412761"
     },
     "user_tz": -240
    },
    "id": "E3uUVVIV5oSe",
    "outputId": "83d28022-11a9-4f9e-8b94-00e65450d0f5"
   },
   "outputs": [
    {
     "name": "stdout",
     "output_type": "stream",
     "text": [
      "Epoch 1/10\n",
      "60/60 [==============================] - 254s 3s/step - loss: 6.5764 - accuracy: 0.8490 - val_loss: 228.1723 - val_accuracy: 0.5439\n",
      "Epoch 2/10\n",
      "60/60 [==============================] - 53s 776ms/step - loss: 0.5366 - accuracy: 0.9483 - val_loss: 40.2950 - val_accuracy: 0.5502\n",
      "Epoch 3/10\n",
      "60/60 [==============================] - 48s 784ms/step - loss: 0.3384 - accuracy: 0.9723 - val_loss: 30.1409 - val_accuracy: 0.5753\n",
      "Epoch 4/10\n",
      "60/60 [==============================] - 48s 779ms/step - loss: 0.3551 - accuracy: 0.9634 - val_loss: 4.1852 - val_accuracy: 0.7385\n",
      "Epoch 5/10\n",
      "60/60 [==============================] - 48s 783ms/step - loss: 0.0899 - accuracy: 0.9885 - val_loss: 3.9373 - val_accuracy: 0.8013\n",
      "Epoch 6/10\n",
      "60/60 [==============================] - 48s 784ms/step - loss: 0.1003 - accuracy: 0.9916 - val_loss: 0.0487 - val_accuracy: 0.9937\n",
      "Epoch 7/10\n",
      "60/60 [==============================] - 48s 784ms/step - loss: 0.0060 - accuracy: 0.9984 - val_loss: 0.1422 - val_accuracy: 0.9812\n",
      "Epoch 8/10\n",
      "60/60 [==============================] - 48s 782ms/step - loss: 2.1580e-04 - accuracy: 1.0000 - val_loss: 0.0479 - val_accuracy: 0.9937\n",
      "Epoch 9/10\n",
      "60/60 [==============================] - 48s 786ms/step - loss: 7.6680e-04 - accuracy: 0.9995 - val_loss: 0.0660 - val_accuracy: 0.9895\n",
      "Epoch 10/10\n",
      "60/60 [==============================] - 49s 787ms/step - loss: 0.0036 - accuracy: 0.9974 - val_loss: 0.0838 - val_accuracy: 0.9833\n"
     ]
    }
   ],
   "source": [
    "custom_model_history = model.fit(train_set,validation_data=validation_set,epochs=10)"
   ]
  },
  {
   "cell_type": "code",
   "execution_count": 14,
   "metadata": {
    "colab": {
     "base_uri": "https://localhost:8080/",
     "height": 472
    },
    "executionInfo": {
     "elapsed": 744,
     "status": "ok",
     "timestamp": 1697295357019,
     "user": {
      "displayName": "Tanushri Bhaduri",
      "userId": "06665968640507412761"
     },
     "user_tz": -240
    },
    "id": "03kXBEcJ5428",
    "outputId": "1b3962ff-fb08-4e55-c5fc-ba38b0564c41"
   },
   "outputs": [
    {
     "data": {
      "image/png": "[encoded data removed]",
      "text/plain": [
       "<Figure size 640x480 with 1 Axes>"
      ]
     },
     "metadata": {},
     "output_type": "display_data"
    }
   ],
   "source": [
    "#fig1 = plt.gcf()\n",
    "plt.plot(custom_model_history.history['accuracy'])\n",
    "plt.plot(custom_model_history.history['val_accuracy'])\n",
    "plt.title('CNN Model Accuracy')\n",
    "plt.ylabel('Accuracy')\n",
    "plt.xlabel('Epochs')\n",
    "plt.legend(['train', 'validation'])\n",
    "plt.show()"
   ]
  },
  {
   "cell_type": "code",
   "execution_count": 15,
   "metadata": {
    "colab": {
     "base_uri": "https://localhost:8080/",
     "height": 472
    },
    "executionInfo": {
     "elapsed": 506,
     "status": "ok",
     "timestamp": 1697295362369,
     "user": {
      "displayName": "Tanushri Bhaduri",
      "userId": "06665968640507412761"
     },
     "user_tz": -240
    },
    "id": "0z12zRpZ7YXS",
    "outputId": "bf0de93b-093e-4607-e9de-541aad4ff012"
   },
   "outputs": [
    {
     "data": {
      "image/png": "[encoded data removed]",
      "text/plain": [
       "<Figure size 640x480 with 1 Axes>"
      ]
     },
     "metadata": {},
     "output_type": "display_data"
    }
   ],
   "source": [
    "plt.plot(custom_model_history.history['loss'])\n",
    "plt.plot(custom_model_history.history['val_loss'])\n",
    "plt.title('CNN Model Loss')\n",
    "plt.ylabel('Loss')\n",
    "plt.xlabel('Epochs')\n",
    "plt.legend(['train', 'validation'])\n",
    "plt.show()"
   ]
  },
  {
   "cell_type": "code",
   "execution_count": 16,
   "metadata": {
    "colab": {
     "base_uri": "https://localhost:8080/"
    },
    "executionInfo": {
     "elapsed": 11107,
     "status": "ok",
     "timestamp": 1697295378131,
     "user": {
      "displayName": "Tanushri Bhaduri",
      "userId": "06665968640507412761"
     },
     "user_tz": -240
    },
    "id": "yhY3_gTWHTCD",
    "outputId": "927102e4-ff6f-4866-c552-3cc663324b16"
   },
   "outputs": [
    {
     "name": "stdout",
     "output_type": "stream",
     "text": [
      "1/1 [==============================] - 1s 664ms/step\n",
      "1/1 [==============================] - 0s 247ms/step\n",
      "1/1 [==============================] - 0s 239ms/step\n",
      "1/1 [==============================] - 0s 248ms/step\n",
      "1/1 [==============================] - 0s 164ms/step\n",
      "1/1 [==============================] - 0s 273ms/step\n",
      "1/1 [==============================] - 0s 233ms/step\n",
      "1/1 [==============================] - 0s 194ms/step\n",
      "1/1 [==============================] - 0s 189ms/step\n",
      "1/1 [==============================] - 1s 512ms/step\n",
      "1/1 [==============================] - 0s 146ms/step\n",
      "1/1 [==============================] - 0s 159ms/step\n",
      "1/1 [==============================] - 0s 133ms/step\n",
      "1/1 [==============================] - 0s 145ms/step\n",
      "1/1 [==============================] - 0s 147ms/step\n",
      "1/1 [==============================] - 0s 131ms/step\n",
      "1/1 [==============================] - 0s 303ms/step\n",
      "1/1 [==============================] - 0s 142ms/step\n",
      "1/1 [==============================] - 1s 520ms/step\n",
      "[[289   1]\n",
      " [ 12 295]]\n",
      "F1 score 0.978441127694859\n",
      "Accuracy 0.9782244556113903\n"
     ]
    }
   ],
   "source": [
    "custom_model_evaluation = evaluate_model(model, test_set)"
   ]
  },
  {
   "cell_type": "code",
   "execution_count": 17,
   "metadata": {
    "id": "Ycgh8jhyiNiM"
   },
   "outputs": [
    {
     "name": "stderr",
     "output_type": "stream",
     "text": [
      "WARNING:absl:Found untraced functions such as _jit_compiled_convolution_op while saving (showing 1 of 1). These functions will not be directly callable after loading.\n"
     ]
    },
    {
     "name": "stdout",
     "output_type": "stream",
     "text": [
      "INFO:tensorflow:Assets written to: ram://9b46a79a-34cc-4fa7-8d32-7eb7a47b2d99/assets\n"
     ]
    },
    {
     "name": "stderr",
     "output_type": "stream",
     "text": [
      "INFO:tensorflow:Assets written to: ram://9b46a79a-34cc-4fa7-8d32-7eb7a47b2d99/assets\n"
     ]
    },
    {
     "name": "stdout",
     "output_type": "stream",
     "text": [
      "CNN Model: 288.83 MB\n"
     ]
    }
   ],
   "source": [
    "cnn_model = '../Final_model/cnn_model.h5'\n",
    "pickle.dump(model, open(cnn_model, 'wb'))\n",
    "model.save(cnn_model)\n",
    "cnn_model_size = format((os.path.getsize(cnn_model)/(1024*1024)),\".2f\")\n",
    "print(\"CNN Model:\",cnn_model_size,\"MB\")"
   ]
  },
  {
   "cell_type": "markdown",
   "metadata": {
    "id": "GxIPXZ76Vx6Y"
   },
   "source": [
    "ResNet Model"
   ]
  },
  {
   "cell_type": "code",
   "execution_count": 18,
   "metadata": {
    "colab": {
     "base_uri": "https://localhost:8080/"
    },
    "executionInfo": {
     "elapsed": 3278,
     "status": "ok",
     "timestamp": 1697295945656,
     "user": {
      "displayName": "Tanushri Bhaduri",
      "userId": "06665968640507412761"
     },
     "user_tz": -240
    },
    "id": "_aHQ3EmxHp4P",
    "outputId": "9b4df5e1-4fde-49cf-bf98-1d9cc96a8759"
   },
   "outputs": [],
   "source": [
    "base_model = ResNet50(weights= 'imagenet', include_top=False, input_shape= (224,224,3), classes=2)\n",
    "for layer in base_model.layers:\n",
    "    layer.trainable=False"
   ]
  },
  {
   "cell_type": "code",
   "execution_count": 19,
   "metadata": {
    "colab": {
     "base_uri": "https://localhost:8080/"
    },
    "executionInfo": {
     "elapsed": 2600,
     "status": "ok",
     "timestamp": 1697295950828,
     "user": {
      "displayName": "Tanushri Bhaduri",
      "userId": "06665968640507412761"
     },
     "user_tz": -240
    },
    "id": "q3sKlsS0WiCR",
    "outputId": "971d3bae-34e6-46c5-e800-ab9023a318c6"
   },
   "outputs": [
    {
     "name": "stdout",
     "output_type": "stream",
     "text": [
      "Model: \"sequential_1\"\n",
      "_________________________________________________________________\n",
      " Layer (type)                Output Shape              Param #   \n",
      "=================================================================\n",
      " resnet50 (Functional)       (None, 7, 7, 2048)        23587712  \n",
      "                                                                 \n",
      " batch_normalization_1 (Batc  (None, 7, 7, 2048)       8192      \n",
      " hNormalization)                                                 \n",
      "                                                                 \n",
      " flatten_1 (Flatten)         (None, 100352)            0         \n",
      "                                                                 \n",
      " dense_2 (Dense)             (None, 512)               51380736  \n",
      "                                                                 \n",
      " dense_3 (Dense)             (None, 2)                 1026      \n",
      "                                                                 \n",
      "=================================================================\n",
      "Total params: 74,977,666\n",
      "Trainable params: 51,385,858\n",
      "Non-trainable params: 23,591,808\n",
      "_________________________________________________________________\n"
     ]
    }
   ],
   "source": [
    "resnet_model= Sequential()\n",
    "resnet_model.add(base_model)\n",
    "resnet_model.add(tf.keras.layers.BatchNormalization())\n",
    "#resnet_model.add(tf.keras.layers.Conv2D(256,(3,3),activation='relu'))\n",
    "#resnet_model.add(tf.keras.layers.BatchNormalization())\n",
    "resnet_model.add(tf.keras.layers.Flatten())\n",
    "resnet_model.add(tf.keras.layers.Dense(512, activation='relu'))\n",
    "resnet_model.add(tf.keras.layers.Dense(2, activation='softmax'))\n",
    "resnet_model.summary()"
   ]
  },
  {
   "cell_type": "code",
   "execution_count": 20,
   "metadata": {
    "executionInfo": {
     "elapsed": 335,
     "status": "ok",
     "timestamp": 1697295954340,
     "user": {
      "displayName": "Tanushri Bhaduri",
      "userId": "06665968640507412761"
     },
     "user_tz": -240
    },
    "id": "Wo5zUpUmWm3X"
   },
   "outputs": [],
   "source": [
    "resnet_model.compile(optimizer='Adam',loss='sparse_categorical_crossentropy',metrics=['accuracy'])"
   ]
  },
  {
   "cell_type": "code",
   "execution_count": 21,
   "metadata": {
    "colab": {
     "base_uri": "https://localhost:8080/"
    },
    "executionInfo": {
     "elapsed": 3781577,
     "status": "ok",
     "timestamp": 1697299737039,
     "user": {
      "displayName": "Tanushri Bhaduri",
      "userId": "06665968640507412761"
     },
     "user_tz": -240
    },
    "id": "BictJ6cnW9J4",
    "outputId": "04c8f1ec-7783-41fb-9609-254f48b205e7"
   },
   "outputs": [
    {
     "name": "stdout",
     "output_type": "stream",
     "text": [
      "Epoch 1/10\n",
      "60/60 [==============================] - 282s 4s/step - loss: 3.9159 - accuracy: 0.9091 - val_loss: 5.0135 - val_accuracy: 0.9038\n",
      "Epoch 2/10\n",
      "60/60 [==============================] - 259s 4s/step - loss: 0.3796 - accuracy: 0.9812 - val_loss: 1.2379 - val_accuracy: 0.9477\n",
      "Epoch 3/10\n",
      "60/60 [==============================] - 256s 4s/step - loss: 0.4040 - accuracy: 0.9828 - val_loss: 0.9755 - val_accuracy: 0.9791\n",
      "Epoch 4/10\n",
      "60/60 [==============================] - 262s 4s/step - loss: 0.2472 - accuracy: 0.9906 - val_loss: 0.7020 - val_accuracy: 0.9728\n",
      "Epoch 5/10\n",
      "60/60 [==============================] - 257s 4s/step - loss: 0.3437 - accuracy: 0.9869 - val_loss: 2.6330 - val_accuracy: 0.9623\n",
      "Epoch 6/10\n",
      "60/60 [==============================] - 252s 4s/step - loss: 0.3330 - accuracy: 0.9896 - val_loss: 0.3782 - val_accuracy: 0.9833\n",
      "Epoch 7/10\n",
      "60/60 [==============================] - 252s 4s/step - loss: 0.0235 - accuracy: 0.9974 - val_loss: 0.2553 - val_accuracy: 0.9937\n",
      "Epoch 8/10\n",
      "60/60 [==============================] - 247s 4s/step - loss: 0.0161 - accuracy: 0.9984 - val_loss: 0.4331 - val_accuracy: 0.9874\n",
      "Epoch 9/10\n",
      "60/60 [==============================] - 258s 4s/step - loss: 0.0305 - accuracy: 0.9974 - val_loss: 0.2875 - val_accuracy: 0.9916\n",
      "Epoch 10/10\n",
      "60/60 [==============================] - 257s 4s/step - loss: 0.0094 - accuracy: 0.9990 - val_loss: 0.3274 - val_accuracy: 0.9916\n"
     ]
    }
   ],
   "source": [
    "resnet_model_history = resnet_model.fit(train_set,validation_data=validation_set,epochs=10)"
   ]
  },
  {
   "cell_type": "code",
   "execution_count": 22,
   "metadata": {
    "colab": {
     "base_uri": "https://localhost:8080/",
     "height": 472
    },
    "executionInfo": {
     "elapsed": 939,
     "status": "ok",
     "timestamp": 1697300598753,
     "user": {
      "displayName": "Tanushri Bhaduri",
      "userId": "06665968640507412761"
     },
     "user_tz": -240
    },
    "id": "YH6RJiacXFHS",
    "outputId": "aeaa8683-501b-4486-a64a-ea02761d3ca1"
   },
   "outputs": [
    {
     "data": {
      "image/png": "[encoded data removed]",
      "text/plain": [
       "<Figure size 640x480 with 1 Axes>"
      ]
     },
     "metadata": {},
     "output_type": "display_data"
    }
   ],
   "source": [
    "fig1 = plt.gcf()\n",
    "plt.plot(resnet_model_history.history['accuracy'])\n",
    "plt.plot(resnet_model_history.history['val_accuracy'])\n",
    "plt.title('Resnet Model Accuracy')\n",
    "plt.ylabel('Accuracy')\n",
    "plt.xlabel('Epochs')\n",
    "plt.legend(['train', 'validation'])\n",
    "plt.show()"
   ]
  },
  {
   "cell_type": "code",
   "execution_count": 23,
   "metadata": {
    "colab": {
     "base_uri": "https://localhost:8080/",
     "height": 472
    },
    "executionInfo": {
     "elapsed": 493,
     "status": "ok",
     "timestamp": 1697300608488,
     "user": {
      "displayName": "Tanushri Bhaduri",
      "userId": "06665968640507412761"
     },
     "user_tz": -240
    },
    "id": "iDfYOvFqXPX4",
    "outputId": "6f5f65f8-418b-4763-81fa-a10c66dbaa17"
   },
   "outputs": [
    {
     "data": {
      "image/png": "[encoded data removed]",
      "text/plain": [
       "<Figure size 640x480 with 1 Axes>"
      ]
     },
     "metadata": {},
     "output_type": "display_data"
    }
   ],
   "source": [
    "plt.plot(resnet_model_history.history['loss'])\n",
    "plt.plot(resnet_model_history.history['val_loss'])\n",
    "\n",
    "plt.title('Resnet Model Loss')\n",
    "plt.ylabel('Loss')\n",
    "plt.xlabel('Epochs')\n",
    "plt.legend(['train', 'validation'])\n",
    "plt.show()"
   ]
  },
  {
   "cell_type": "code",
   "execution_count": 24,
   "metadata": {
    "colab": {
     "base_uri": "https://localhost:8080/"
    },
    "executionInfo": {
     "elapsed": 87432,
     "status": "ok",
     "timestamp": 1697300702048,
     "user": {
      "displayName": "Tanushri Bhaduri",
      "userId": "06665968640507412761"
     },
     "user_tz": -240
    },
    "id": "L2VqtP1-Z25V",
    "outputId": "8ea9a128-b399-4c69-e1e4-8465f3605498"
   },
   "outputs": [
    {
     "name": "stdout",
     "output_type": "stream",
     "text": [
      "1/1 [==============================] - 5s 5s/step\n",
      "1/1 [==============================] - 3s 3s/step\n",
      "1/1 [==============================] - 3s 3s/step\n",
      "1/1 [==============================] - 3s 3s/step\n",
      "1/1 [==============================] - 3s 3s/step\n",
      "1/1 [==============================] - 3s 3s/step\n",
      "1/1 [==============================] - 3s 3s/step\n",
      "1/1 [==============================] - 3s 3s/step\n",
      "1/1 [==============================] - 3s 3s/step\n",
      "1/1 [==============================] - 3s 3s/step\n",
      "1/1 [==============================] - 3s 3s/step\n",
      "1/1 [==============================] - 3s 3s/step\n",
      "1/1 [==============================] - 3s 3s/step\n",
      "1/1 [==============================] - 3s 3s/step\n",
      "1/1 [==============================] - 3s 3s/step\n",
      "1/1 [==============================] - 3s 3s/step\n",
      "1/1 [==============================] - 3s 3s/step\n",
      "1/1 [==============================] - 3s 3s/step\n",
      "1/1 [==============================] - 3s 3s/step\n",
      "[[288   2]\n",
      " [  1 306]]\n",
      "F1 score 0.9951219512195122\n",
      "Accuracy 0.9949748743718593\n"
     ]
    }
   ],
   "source": [
    "resnet_model_evaluation = evaluate_model(resnet_model, test_set)"
   ]
  },
  {
   "cell_type": "code",
   "execution_count": 25,
   "metadata": {},
   "outputs": [
    {
     "name": "stderr",
     "output_type": "stream",
     "text": [
      "WARNING:absl:Found untraced functions such as _jit_compiled_convolution_op, _jit_compiled_convolution_op, _jit_compiled_convolution_op, _jit_compiled_convolution_op, _jit_compiled_convolution_op while saving (showing 5 of 53). These functions will not be directly callable after loading.\n"
     ]
    },
    {
     "name": "stdout",
     "output_type": "stream",
     "text": [
      "INFO:tensorflow:Assets written to: ram://4e4ede78-355d-4e24-8d53-f4379618080a/assets\n"
     ]
    },
    {
     "name": "stderr",
     "output_type": "stream",
     "text": [
      "INFO:tensorflow:Assets written to: ram://4e4ede78-355d-4e24-8d53-f4379618080a/assets\n"
     ]
    },
    {
     "name": "stdout",
     "output_type": "stream",
     "text": [
      "Resnet Model: 678.39 MB\n"
     ]
    }
   ],
   "source": [
    "res_model_path = '../Final_model/res_model.h5'\n",
    "pickle.dump(resnet_model, open(res_model_path, 'wb'))\n",
    "resnet_model.save(res_model_path)\n",
    "res_model_size = format((os.path.getsize(res_model_path)/(1024*1024)),\".2f\")\n",
    "print(\"Resnet Model:\",res_model_size,\"MB\")"
   ]
  },
  {
   "cell_type": "markdown",
   "metadata": {
    "id": "Jsr6A9YPAZpP"
   },
   "source": [
    "Mobile Net Model"
   ]
  },
  {
   "cell_type": "code",
   "execution_count": 26,
   "metadata": {
    "colab": {
     "base_uri": "https://localhost:8080/"
    },
    "executionInfo": {
     "elapsed": 2995,
     "status": "ok",
     "timestamp": 1697300744501,
     "user": {
      "displayName": "Tanushri Bhaduri",
      "userId": "06665968640507412761"
     },
     "user_tz": -240
    },
    "id": "lXpTBT9gZ7h0",
    "outputId": "b461023c-ed31-48ba-e512-6f1b8f6031b2"
   },
   "outputs": [],
   "source": [
    "mobilnet_base_model =  tf.keras.applications.mobilenet_v2.MobileNetV2(include_top='false',input_shape=(224,224,3),pooling='avg',weights='imagenet')"
   ]
  },
  {
   "cell_type": "code",
   "execution_count": 27,
   "metadata": {
    "executionInfo": {
     "elapsed": 5,
     "status": "ok",
     "timestamp": 1697300744501,
     "user": {
      "displayName": "Tanushri Bhaduri",
      "userId": "06665968640507412761"
     },
     "user_tz": -240
    },
    "id": "yFyG0LHATh99"
   },
   "outputs": [
    {
     "name": "stdout",
     "output_type": "stream",
     "text": [
      "WARNING:tensorflow:Please fix your imports. Module tensorflow.python.training.tracking.data_structures has been moved to tensorflow.python.trackable.data_structures. The old module will be deleted in version 2.11.\n"
     ]
    },
    {
     "name": "stderr",
     "output_type": "stream",
     "text": [
      "WARNING:tensorflow:Please fix your imports. Module tensorflow.python.training.tracking.data_structures has been moved to tensorflow.python.trackable.data_structures. The old module will be deleted in version 2.11.\n"
     ]
    }
   ],
   "source": [
    "mobile_net_layers = hub.KerasLayer(mobilnet_base_model, input_shape=(224,224,3))\n",
    "mobile_net_layers.trainable = False"
   ]
  },
  {
   "cell_type": "code",
   "execution_count": 28,
   "metadata": {
    "colab": {
     "base_uri": "https://localhost:8080/"
    },
    "executionInfo": {
     "elapsed": 900,
     "status": "ok",
     "timestamp": 1697300746528,
     "user": {
      "displayName": "Tanushri Bhaduri",
      "userId": "06665968640507412761"
     },
     "user_tz": -240
    },
    "id": "nbiT3Z2heyFl",
    "outputId": "3262bd8a-014f-48af-c50d-b4adb90b7603"
   },
   "outputs": [
    {
     "name": "stdout",
     "output_type": "stream",
     "text": [
      "Model: \"sequential_2\"\n",
      "_________________________________________________________________\n",
      " Layer (type)                Output Shape              Param #   \n",
      "=================================================================\n",
      " keras_layer (KerasLayer)    (None, 1000)              3538984   \n",
      "                                                                 \n",
      " flatten_2 (Flatten)         (None, 1000)              0         \n",
      "                                                                 \n",
      " dropout (Dropout)           (None, 1000)              0         \n",
      "                                                                 \n",
      " dense_4 (Dense)             (None, 64)                64064     \n",
      "                                                                 \n",
      " dense_5 (Dense)             (None, 2)                 130       \n",
      "                                                                 \n",
      "=================================================================\n",
      "Total params: 3,603,178\n",
      "Trainable params: 64,194\n",
      "Non-trainable params: 3,538,984\n",
      "_________________________________________________________________\n"
     ]
    }
   ],
   "source": [
    "mobilenet_model= Sequential()\n",
    "mobilenet_model.add(mobile_net_layers)\n",
    "mobilenet_model.add(tf.keras.layers.Flatten())\n",
    "mobilenet_model.add(tf.keras.layers.Dropout(0.3))\n",
    "mobilenet_model.add(tf.keras.layers.Dense(64, activation='relu'))\n",
    "mobilenet_model.add(tf.keras.layers.Dense(2, activation='softmax'))\n",
    "mobilenet_model.summary()"
   ]
  },
  {
   "cell_type": "code",
   "execution_count": 29,
   "metadata": {
    "executionInfo": {
     "elapsed": 347,
     "status": "ok",
     "timestamp": 1697300759281,
     "user": {
      "displayName": "Tanushri Bhaduri",
      "userId": "06665968640507412761"
     },
     "user_tz": -240
    },
    "id": "C7JZ-dh-7pZA"
   },
   "outputs": [],
   "source": [
    "mobilenet_model.compile(optimizer='Adam',loss='sparse_categorical_crossentropy',metrics=['accuracy'])"
   ]
  },
  {
   "cell_type": "code",
   "execution_count": 30,
   "metadata": {
    "colab": {
     "base_uri": "https://localhost:8080/"
    },
    "executionInfo": {
     "elapsed": 802531,
     "status": "ok",
     "timestamp": 1697301563186,
     "user": {
      "displayName": "Tanushri Bhaduri",
      "userId": "06665968640507412761"
     },
     "user_tz": -240
    },
    "id": "ZAi9gEmn70Hu",
    "outputId": "d1b023ac-ec53-4ba7-b549-ae1675e81060"
   },
   "outputs": [
    {
     "name": "stdout",
     "output_type": "stream",
     "text": [
      "Epoch 1/10\n",
      "60/60 [==============================] - 164s 2s/step - loss: 0.6915 - accuracy: 0.5303 - val_loss: 0.6857 - val_accuracy: 0.5983\n",
      "Epoch 2/10\n",
      "60/60 [==============================] - 69s 1s/step - loss: 0.6861 - accuracy: 0.5742 - val_loss: 0.6792 - val_accuracy: 0.6485\n",
      "Epoch 3/10\n",
      "60/60 [==============================] - 70s 1s/step - loss: 0.6770 - accuracy: 0.6087 - val_loss: 0.6660 - val_accuracy: 0.6653\n",
      "Epoch 4/10\n",
      "60/60 [==============================] - 70s 1s/step - loss: 0.6673 - accuracy: 0.6311 - val_loss: 0.6550 - val_accuracy: 0.6778\n",
      "Epoch 5/10\n",
      "60/60 [==============================] - 68s 1s/step - loss: 0.6519 - accuracy: 0.6531 - val_loss: 0.6454 - val_accuracy: 0.6862\n",
      "Epoch 6/10\n",
      "60/60 [==============================] - 73s 1s/step - loss: 0.6402 - accuracy: 0.6635 - val_loss: 0.6316 - val_accuracy: 0.7155\n",
      "Epoch 7/10\n",
      "60/60 [==============================] - 70s 1s/step - loss: 0.6288 - accuracy: 0.6787 - val_loss: 0.6201 - val_accuracy: 0.7092\n",
      "Epoch 8/10\n",
      "60/60 [==============================] - 70s 1s/step - loss: 0.6212 - accuracy: 0.6834 - val_loss: 0.6117 - val_accuracy: 0.6987\n",
      "Epoch 9/10\n",
      "60/60 [==============================] - 72s 1s/step - loss: 0.6073 - accuracy: 0.6844 - val_loss: 0.6098 - val_accuracy: 0.7176\n",
      "Epoch 10/10\n",
      "60/60 [==============================] - 69s 1s/step - loss: 0.5967 - accuracy: 0.7006 - val_loss: 0.5976 - val_accuracy: 0.7092\n"
     ]
    }
   ],
   "source": [
    "mobilenet_history = mobilenet_model.fit(train_set,validation_data=validation_set,epochs=10)"
   ]
  },
  {
   "cell_type": "code",
   "execution_count": 33,
   "metadata": {
    "colab": {
     "base_uri": "https://localhost:8080/",
     "height": 472
    },
    "executionInfo": {
     "elapsed": 634,
     "status": "ok",
     "timestamp": 1697301777384,
     "user": {
      "displayName": "Tanushri Bhaduri",
      "userId": "06665968640507412761"
     },
     "user_tz": -240
    },
    "id": "TsmJzZrXLGjr",
    "outputId": "4880640d-e70a-4be2-d226-83b0776be8bf"
   },
   "outputs": [
    {
     "data": {
      "image/png": "[encoded data removed]",
      "text/plain": [
       "<Figure size 640x480 with 1 Axes>"
      ]
     },
     "metadata": {},
     "output_type": "display_data"
    }
   ],
   "source": [
    "fig1 = plt.gcf()\n",
    "plt.plot(mobilenet_history.history['accuracy'])\n",
    "plt.plot(mobilenet_history.history['val_accuracy'])\n",
    "plt.title('Mobilenet Model Accuracy')\n",
    "plt.ylabel('Accuracy')\n",
    "plt.xlabel('Epochs')\n",
    "plt.legend(['train', 'validation'])\n",
    "plt.show()"
   ]
  },
  {
   "cell_type": "code",
   "execution_count": 34,
   "metadata": {
    "colab": {
     "base_uri": "https://localhost:8080/",
     "height": 472
    },
    "executionInfo": {
     "elapsed": 1023,
     "status": "ok",
     "timestamp": 1697301784387,
     "user": {
      "displayName": "Tanushri Bhaduri",
      "userId": "06665968640507412761"
     },
     "user_tz": -240
    },
    "id": "-900cpReKXyv",
    "outputId": "cb715626-9ae8-431a-93c9-d239b6770aaf"
   },
   "outputs": [
    {
     "data": {
      "image/png": "[encoded data removed]",
      "text/plain": [
       "<Figure size 640x480 with 1 Axes>"
      ]
     },
     "metadata": {},
     "output_type": "display_data"
    }
   ],
   "source": [
    "plt.plot(mobilenet_history.history['loss'])\n",
    "plt.plot(mobilenet_history.history['val_loss'])\n",
    "\n",
    "plt.title('Mobilenet Model Loss')\n",
    "plt.ylabel('Loss')\n",
    "plt.xlabel('Epochs')\n",
    "plt.legend(['train', 'validation'])\n",
    "plt.show()"
   ]
  },
  {
   "cell_type": "code",
   "execution_count": 35,
   "metadata": {
    "colab": {
     "base_uri": "https://localhost:8080/"
    },
    "executionInfo": {
     "elapsed": 41345,
     "status": "ok",
     "timestamp": 1697301829395,
     "user": {
      "displayName": "Tanushri Bhaduri",
      "userId": "06665968640507412761"
     },
     "user_tz": -240
    },
    "id": "_Id1CE6zYz-A",
    "outputId": "5250aaf8-82d7-43d8-f208-e97ac1c769a9"
   },
   "outputs": [
    {
     "name": "stdout",
     "output_type": "stream",
     "text": [
      "1/1 [==============================] - 3s 3s/step\n",
      "1/1 [==============================] - 1s 730ms/step\n",
      "1/1 [==============================] - 1s 934ms/step\n",
      "1/1 [==============================] - 1s 882ms/step\n",
      "1/1 [==============================] - 1s 998ms/step\n",
      "1/1 [==============================] - 1s 1s/step\n",
      "1/1 [==============================] - 1s 985ms/step\n",
      "1/1 [==============================] - 1s 929ms/step\n",
      "1/1 [==============================] - 1s 941ms/step\n",
      "1/1 [==============================] - 1s 956ms/step\n",
      "1/1 [==============================] - 1s 875ms/step\n",
      "1/1 [==============================] - 1s 971ms/step\n",
      "1/1 [==============================] - 1s 963ms/step\n",
      "1/1 [==============================] - 1s 879ms/step\n",
      "1/1 [==============================] - 1s 995ms/step\n",
      "1/1 [==============================] - 4s 4s/step\n",
      "1/1 [==============================] - 1s 697ms/step\n",
      "1/1 [==============================] - 1s 715ms/step\n",
      "1/1 [==============================] - 2s 2s/step\n",
      "[[208  82]\n",
      " [ 87 220]]\n",
      "F1 score 0.7224958949096879\n",
      "Accuracy 0.7169179229480737\n"
     ]
    }
   ],
   "source": [
    "mobilenet_evaluation = evaluate_model(mobilenet_model, test_set)"
   ]
  },
  {
   "cell_type": "code",
   "execution_count": 36,
   "metadata": {
    "id": "7zUWZ7tYeYYg"
   },
   "outputs": [
    {
     "name": "stderr",
     "output_type": "stream",
     "text": [
      "WARNING:absl:Found untraced functions such as _jit_compiled_convolution_op, _jit_compiled_convolution_op, _jit_compiled_convolution_op, _jit_compiled_convolution_op, _jit_compiled_convolution_op while saving (showing 5 of 52). These functions will not be directly callable after loading.\n"
     ]
    },
    {
     "name": "stdout",
     "output_type": "stream",
     "text": [
      "INFO:tensorflow:Assets written to: ram://6f20e3f8-129d-46f0-9105-58e1661459b0/assets\n"
     ]
    },
    {
     "name": "stderr",
     "output_type": "stream",
     "text": [
      "INFO:tensorflow:Assets written to: ram://6f20e3f8-129d-46f0-9105-58e1661459b0/assets\n"
     ]
    },
    {
     "name": "stdout",
     "output_type": "stream",
     "text": [
      "Resnet Model: 13.96 MB\n"
     ]
    }
   ],
   "source": [
    "mobile_model_path = '../Final_model/mobile_model.h5'\n",
    "pickle.dump(mobilenet_model, open(mobile_model_path, 'wb'))\n",
    "mobilenet_model.save_weights(mobile_model_path)\n",
    "mobile_model_size = format((os.path.getsize(mobile_model_path)/(1024*1024)),\".2f\")\n",
    "print(\"Resnet Model:\",mobile_model_size,\"MB\")"
   ]
  },
  {
   "cell_type": "code",
   "execution_count": null,
   "metadata": {},
   "outputs": [],
   "source": []
  }
 ],
 "metadata": {
  "colab": {
   "authorship_tag": "ABX9TyMS1tvPseyxmQxCLrrIzjLi",
   "provenance": [
    {
     "file_id": "1LAzHBT4BYQ0c75d82BG6f9Zd-RxNRNUl",
     "timestamp": 1696776900786
    }
   ]
  },
  "kernelspec": {
   "display_name": "Python 3 (ipykernel)",
   "language": "python",
   "name": "python3"
  },
  "language_info": {
   "codemirror_mode": {
    "name": "ipython",
    "version": 3
   },
   "file_extension": ".py",
   "mimetype": "text/x-python",
   "name": "python",
   "nbconvert_exporter": "python",
   "pygments_lexer": "ipython3",
   "version": "3.9.17"
  }
 },
 "nbformat": 4,
 "nbformat_minor": 1
}
